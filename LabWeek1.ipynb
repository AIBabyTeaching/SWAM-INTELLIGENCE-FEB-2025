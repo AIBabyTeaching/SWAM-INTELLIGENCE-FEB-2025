{
 "cells": [
  {
   "cell_type": "markdown",
   "metadata": {},
   "source": [
    "# Swarm Intelligence - RB414 - February 2025\n",
    "## Eng. Ahmed Métwalli\n",
    "## Week 1 - Introduction to SI"
   ]
  },
  {
   "cell_type": "markdown",
   "metadata": {},
   "source": [
    "![alt text](Images/BasicDiagam.jpg)"
   ]
  },
  {
   "cell_type": "markdown",
   "metadata": {},
   "source": [
    "#### 1. Initialize Swarm\n",
    "**Requirements:**\n",
    "- Define the problem to be optimized.\n",
    "- Choose swarm intelligence algorithm (e.g., PSO, ACO).\n",
    "- Set parameters such as population size, initial velocity (if applicable), pheromone levels (for ACO), etc.\n",
    "\n",
    "**Inputs:**\n",
    "- Number of agents (swarm size).\n",
    "- Search space boundaries.\n",
    "- Randomized or predefined initial positions and states of agents.\n",
    "\n",
    "**Outputs:**\n",
    "- Initialized swarm (agents with initial positions, velocities, or states).\n",
    "\n",
    "#### 2. Evaluate Fitness\n",
    "**Requirements:**\n",
    "- Define a fitness function that evaluates how good a solution is.\n",
    "- Ensure the function maps the search space to a numerical value.\n",
    "\n",
    "**Inputs:**\n",
    "- Current positions of all agents in the swarm.\n",
    "- Fitness function.\n",
    "\n",
    "**Outputs:**\n",
    "- Fitness values for each agent.\n",
    "\n",
    "#### 3. Communication\n",
    "**Requirements:**\n",
    "- Establish a method for agents to share information (e.g., best solutions found).\n",
    "- Implement communication strategies (e.g., local or global best sharing in PSO, pheromone updating in ACO).\n",
    "\n",
    "**Inputs:**\n",
    "- Fitness values of all agents.\n",
    "- Neighboring agents' information (for local updates).\n",
    "- Global best solution (if applicable).\n",
    "\n",
    "**Outputs:**\n",
    "- Updated shared knowledge (e.g., global best solution in PSO, updated pheromone trails in ACO).\n",
    "\n",
    "#### 4. Update Swarm\n",
    "**Requirements:**\n",
    "- Apply update rules based on the specific algorithm.\n",
    "- Modify agents' positions, velocities, or states based on learned information.\n",
    "\n",
    "**Inputs:**\n",
    "- Current swarm state (positions, velocities, pheromones, etc.).\n",
    "- Communication results (e.g., best-known solutions).\n",
    "\n",
    "**Outputs:**\n",
    "- New positions or states for agents.\n",
    "\n",
    "#### 5. Meet Termination Conditions\n",
    "**Requirements:**\n",
    "- Define stopping criteria (e.g., max iterations, convergence threshold, acceptable solution quality).\n",
    "\n",
    "**Inputs:**\n",
    "- Current best fitness value.\n",
    "- Iteration count.\n",
    "\n",
    "**Outputs:**\n",
    "- Decision: Continue the loop (go back to **Evaluate Fitness**) or terminate the process.\n",
    "\n",
    "#### 6. End\n",
    "**Requirements:**\n",
    "- The algorithm must have reached a solution or exhausted search conditions.\n",
    "\n",
    "**Inputs:**\n",
    "- Best solution found so far.\n",
    "\n",
    "**Outputs:**\n",
    "- Final optimized solution.\n"
   ]
  },
  {
   "cell_type": "markdown",
   "metadata": {},
   "source": [
    "## Packages for each task:\n",
    "\n",
    "### - Basic Swarm Intelligence:\n",
    "  - **SwarmPackagePy** → Implements **ACO, PSO, GWO, Bat Algorithm, Firefly Algorithm**, and more for **optimization problems**.\n",
    "  - **Pyswarms** → Pure **Particle Swarm Optimization (PSO)** library, easy to integrate into ML tasks.\n",
    "  - **pymoo** → Multi-objective evolutionary optimization library, supports **PSO, Genetic Algorithms, and Differential Evolution**.\n",
    "\n",
    "### - Graph-based Optimization (ACO, TCP, routing):\n",
    "  - **NetworkX** → Python library for **graph-based optimizations**, supports **shortest path algorithms, traveling salesman problem (TSP), and ACO-based routing**.\n",
    "  - **Graph-tool** (**Linux only**) → A performance-optimized library for **complex graph-based computations and optimizations**.\n",
    "\n",
    "### - Multi-objective Optimization:\n",
    "  - **pymoo** → Advanced **multi-objective optimization** library, used for **evolutionary computation**.\n",
    "  - **Scikit-Optimize** → Implements **Bayesian optimization** and **search space exploration** for complex problems.\n",
    "\n",
    "### - Hyperparameter tuning for swarm algorithms:\n",
    "  - **Optuna** → Automated hyperparameter tuning framework using **Bayesian optimization, Tree-structured Parzen Estimators (TPE), and grid search**.\n",
    "  - **Scikit-Optimize** → Alternative lightweight optimization framework for **hyperparameter tuning**.\n",
    "\n",
    "### - Agent-based Simulation (swarm robotics):\n",
    "  - **Mesa** → Python framework for **agent-based modeling**, ideal for **simulating swarm behavior** in robotics and complex systems.\n",
    "  - **Gym** → OpenAI’s **environment simulator** for reinforcement learning and robotic applications.\n",
    "  - **Pybullet** → A physics engine for **real-world swarm robotics simulation**, supports **multi-agent reinforcement learning**.\n",
    "\n",
    "### - Parallel processing & scalability:\n",
    "  - **Dask** → Scales Python to **multi-core CPUs and distributed systems**, useful for running **large-scale swarm simulations**.\n",
    "  - **Ray** → Distributed computing framework that enables **parallel execution of swarm intelligence algorithms**, integrates well with **reinforcement learning**.\n"
   ]
  },
  {
   "cell_type": "markdown",
   "metadata": {
    "vscode": {
     "languageId": "plaintext"
    }
   },
   "source": [
    "    Python version 3.11.5\n",
    "    \n",
    "    Requirements:\n",
    "\n",
    "    numpy==1.26.2\n",
    "    scipy==1.11.4\n",
    "    sympy==1.13.1\n",
    "    SwarmPackagePy==1.0.0a5\n",
    "    pymoo==0.6.1.3\n",
    "    inspyred==1.0.3\n",
    "    pyswarms==1.3.0\n",
    "    deap==1.4.2\n",
    "    evopy==0.3\n",
    "    networkx==3.2.1\n",
    "    matplotlib==3.8.2\n",
    "    seaborn==0.13.0\n",
    "    plotly==5.23.0\n",
    "    pandas==2.1.4\n",
    "    optuna==4.2.1\n",
    "    scikit-optimize==0.10.2\n",
    "    niapy==2.5.2\n",
    "    mesa==3.1.4\n",
    "    gym==0.26.2\n",
    "    pybullet==3.2.7\n",
    "    dask==2025.2.0\n",
    "    ray==2.42.1"
   ]
  },
  {
   "cell_type": "code",
   "execution_count": null,
   "metadata": {},
   "outputs": [
    {
     "name": "stdout",
     "output_type": "stream",
     "text": [
      "All libraries are okay\n"
     ]
    }
   ],
   "source": [
    "import numpy\n",
    "import scipy\n",
    "import sympy\n",
    "import networkx\n",
    "import matplotlib.pyplot as plt\n",
    "import pymoo\n",
    "import pyswarms\n",
    "import inspyred\n",
    "import deap\n",
    "import niapy # CAN IMPLEMENT ABC!!\n",
    "import pybullet\n",
    "import ray\n",
    "import dask\n",
    "\n",
    "print(\"All libraries are okay\")\n"
   ]
  },
  {
   "cell_type": "markdown",
   "metadata": {},
   "source": [
    "# [View Section 1: Overview of SI](SecWeek1.pdf) "
   ]
  }
 ],
 "metadata": {
  "kernelspec": {
   "display_name": "mitocluster",
   "language": "python",
   "name": "python3"
  },
  "language_info": {
   "codemirror_mode": {
    "name": "ipython",
    "version": 3
   },
   "file_extension": ".py",
   "mimetype": "text/x-python",
   "name": "python",
   "nbconvert_exporter": "python",
   "pygments_lexer": "ipython3",
   "version": "3.11.5"
  }
 },
 "nbformat": 4,
 "nbformat_minor": 2
}
